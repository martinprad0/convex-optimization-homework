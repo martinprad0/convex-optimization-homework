{
 "cells": [
  {
   "cell_type": "code",
   "execution_count": 102,
   "metadata": {},
   "outputs": [],
   "source": [
    "import numpy as np\n",
    "import sympy as sp\n",
    "from numpy.linalg import inv, norm\n",
    "import matplotlib.pyplot as plt\n",
    "from sympy.tensor.array import derive_by_array\n",
    "from sympy.matrices.dense import matrix_multiply_elementwise as times"
   ]
  },
  {
   "cell_type": "code",
   "execution_count": 103,
   "metadata": {},
   "outputs": [],
   "source": [
    "n = 3\n",
    "m = 5\n",
    "\n",
    "x = sp.symbols(\"\".join([f\"x_{i+1} \" for i in range(n) ])[:-1])\n",
    "x_vec = sp.Matrix(x)\n",
    "m_ones = sp.Matrix([1]*m)\n",
    "n_ones = sp.Matrix([1]*n)\n",
    "a = [sp.symbols(\"\".join([rf\"a_{i+1}{j+1} \" for j in range(n) ])[:-1]) for i in range(m)]\n",
    "A = sp.Matrix(a).T\n",
    "C = sp.Matrix(sp.symbols(\"\".join([f\"c_{i+1} \" for i in range(n) ])[:-1]))\n",
    "\n",
    "f1 = (C.T*x_vec)[0]\n",
    "Df1 = C\n",
    "Hf1 = sp.Integer(0)*sp.eye(n)\n",
    "\n",
    "f2 = sum((m_ones-A.T*x_vec).applyfunc(sp.ln))\n",
    "Df2 = -A*(m_ones-A.T*x_vec).applyfunc(lambda x: 1/x)\n",
    "Hf2 = -A*sp.diag(*(m_ones-A.T*x_vec).applyfunc(lambda x: 1/x**2))*A.T\n",
    "\n",
    "f3 = sum((n_ones-x_vec.applyfunc(lambda x: x**2)).applyfunc(sp.ln))\n",
    "Df3 = times((n_ones-x_vec.applyfunc(lambda x: x**2)).applyfunc(lambda x: 1/x), -2*x_vec)\n",
    "Hf3 = sp.diag(*times(-2*(n_ones+x_vec.applyfunc(lambda x: x**2)), (n_ones-x_vec.applyfunc(lambda x: x**2)).applyfunc(lambda x: 1/(x)**2)))\n",
    "\n",
    "# Hf(x_0) - (Hf1+Hf2+Hf3).subs({x[i]:x_0[i] for i in range(n)}).subs({A[i,j]:a[i,j] for i in range(n) for j in range(m)}).subs({C[i]:c[i] for i in range(n)})"
   ]
  },
  {
   "cell_type": "code",
   "execution_count": 104,
   "metadata": {},
   "outputs": [],
   "source": [
    "n = 500\n",
    "m = 200\n",
    "c = np.random.normal(0,1,n)\n",
    "a = np.random.normal(0,1,(n,m))\n",
    "a = a/norm(a.T, axis = 1) # Uniformly distributed over S^{m-1}\n",
    "x_0 = np.repeat(0,n)\n",
    "\n",
    "f = lambda x: c.T@x - sum(np.log(1-a.T@x) - sum(np.log(1-x**2)))\n",
    "Df = lambda x: c - a@(1/(1-a.T@x))  - (2*x)/(1-x**2)\n",
    "Hf = lambda x: 0 - a*(1/(1-a.T@x)**2)@a.T - np.diag(2*(x**2 + 1)/(1-x**2)**2)"
   ]
  },
  {
   "cell_type": "code",
   "execution_count": 105,
   "metadata": {},
   "outputs": [],
   "source": [
    "from scipy.optimize import minimize\n",
    "from scipy.optimize import NonlinearConstraint, LinearConstraint\n",
    "\n",
    "def is_in_domain(x):\n",
    "    return not ((a.T@x > 1).any() or (x**2 > 1).any())\n",
    "\n",
    "# constraint_function1 = lambda x : 1-a.T@x\n",
    "# constraint_function2 = lambda x : 1-x**2\n",
    "\n",
    "# con1 = LinearConstraint(a.T, -np.inf, 0)\n",
    "# con2 = NonlinearConstraint(constraint_function2, 0.0001, np.inf)\n",
    "\n",
    "# res = minimize(f, x_0,method='trust-constr',\n",
    "#                jac=Df, hess=Hf,\n",
    "#                options={'xtol': 1e-8, 'disp': True}, constraints=[con1,con2])"
   ]
  },
  {
   "cell_type": "code",
   "execution_count": 106,
   "metadata": {},
   "outputs": [
    {
     "data": {
      "text/plain": [
       "(7.28064337443776e-05, 8.920081058192356e-05)"
      ]
     },
     "execution_count": 106,
     "metadata": {},
     "output_type": "execute_result"
    }
   ],
   "source": [
    "x_test = x_0 + np.random.normal(0,1/(n**2),n)\n",
    "f_taylor = lambda x: f(x_0) + Df(x_0)@(x_0-x) + (1/2)*(x_0-x).T@Hf(x_0)@(x_0-x)\n",
    "f_taylor(x_test) - f(x_test), norm(x_test - x_0)"
   ]
  },
  {
   "cell_type": "code",
   "execution_count": 107,
   "metadata": {},
   "outputs": [],
   "source": [
    "iterations = 200\n",
    "epsilon = 1/10**6\n",
    "alpha = 1\n",
    "rho = 0.94\n",
    "gamma = 0.6\n",
    "x_0 = np.repeat(0,n)"
   ]
  },
  {
   "cell_type": "code",
   "execution_count": 108,
   "metadata": {},
   "outputs": [
    {
     "name": "stdout",
     "output_type": "stream",
     "text": [
      "(500,)\n",
      "0.0 26.437020417535372\n",
      "(500,)\n",
      "-10209.499731083646 45.82560326141332\n",
      "(500,)\n",
      "-17144.338914418455 21.58452126185725\n",
      "(500,)\n",
      "-15900.775579191479 9.814860877338072\n",
      "(500,)\n",
      "-15743.751699456334 4.0558570391747955\n",
      "(500,)\n",
      "-15667.3711176726 1.3369778694677557\n",
      "(500,)\n",
      "-15628.09542012286 0.25662626068279576\n",
      "(500,)\n",
      "-15618.20786653979 0.013521238943922353\n",
      "(500,)\n",
      "-15617.646807123907 4.1527466087016974e-05\n",
      "(500,)\n",
      "-15617.645076530347 3.940372634946317e-10\n"
     ]
    }
   ],
   "source": [
    "def backtracking(alpha, gamma, rho, x_k, f_k, Df_k, p_k):\n",
    "    alpha_k = alpha\n",
    "    backtracking = f(x_k + alpha_k*p_k) - (f_k + gamma*alpha_k*Df_k.T@p_k)\n",
    "    while backtracking > 0 :\n",
    "        alpha_k = alpha_k * rho\n",
    "        backtracking = f(x_k + alpha_k*p_k) - (f_k + gamma*alpha_k*Df_k.T@p_k)\n",
    "    return alpha_k\n",
    "\n",
    "def newton(alpha, gamma, rho, iterations, x_0, f, Df, Hf):\n",
    "    x_k = x_0\n",
    "    x_list = [x_k]\n",
    "    for i in range(iterations):\n",
    "        f_k = f(x_k)\n",
    "        print(x_k.shape)\n",
    "        Df_k = Df(x_k)\n",
    "        print(f_k, norm(Df_k))\n",
    "        B_k = Hf(x_k)\n",
    "        p_k = -inv(B_k)@Df_k\n",
    "        alpha_k = 1 # backtracking(alpha, gamma, rho, x_k, f_k, Df_k, p_k)\n",
    "\n",
    "        x_k_temp = x_k+alpha_k*p_k\n",
    "        i = 0\n",
    "        while not is_in_domain(x_k_temp) or i > 20:\n",
    "            alpha_k *= rho\n",
    "            x_k_temp = x_k+alpha_k*p_k\n",
    "            i += 1\n",
    "        x_k = x_k_temp\n",
    "        if not is_in_domain(x_k):\n",
    "            break\n",
    "        x_list.append(x_k)\n",
    "        \n",
    "        if norm(Df_k) < epsilon:\n",
    "            break\n",
    "    return x_list\n",
    "\n",
    "x_list1 = newton(alpha, gamma, rho, iterations, x_0, f, Df, Hf)\n",
    "# x_list2 = gradient_descent(alpha, gamma, rho, iterations, x_0, f, Df, Hf)"
   ]
  },
  {
   "cell_type": "code",
   "execution_count": 109,
   "metadata": {},
   "outputs": [
    {
     "name": "stdout",
     "output_type": "stream",
     "text": [
      "0.0 26.437020417535372\n",
      "True\n",
      "-6256.509937922265 60.81941791704071\n",
      "False\n"
     ]
    }
   ],
   "source": [
    "def gradient_descent(alpha, gamma, rho, iterations, x_0, f, Df, Hf):\n",
    "    x_k = x_0\n",
    "    x_list = [x_k]\n",
    "    B_k = np.eye(len(x_k))\n",
    "    for i in range(iterations):\n",
    "        f_k = f(x_k)\n",
    "        Df_k = Df(x_k)\n",
    "        p_k = -Df_k\n",
    "\n",
    "        print(f_k, norm(Df_k))\n",
    "        alpha_k = alpha\n",
    "        x_k_temp = x_k+alpha_k*p_k\n",
    "\n",
    "        i = 0\n",
    "        while not is_in_domain(x_k_temp) and i < 100:\n",
    "            alpha_k *= rho\n",
    "            x_k_temp = x_k+alpha_k*p_k\n",
    "            i += 1\n",
    "        print(is_in_domain(x_k_temp))\n",
    "        \n",
    "        if not is_in_domain(x_k_temp):\n",
    "            break\n",
    "        alpha_k = backtracking(alpha_k, gamma, rho, x_k, f_k, Df_k, p_k)\n",
    "        x_k = x_k+alpha_k*p_k\n",
    "        x_list.append(x_k)\n",
    "    return x_list\n",
    "\n",
    "x_list2 = gradient_descent(alpha, gamma, rho, iterations, x_0, f, Df, Hf)"
   ]
  },
  {
   "cell_type": "code",
   "execution_count": 110,
   "metadata": {},
   "outputs": [
    {
     "data": {
      "text/plain": [
       "array([0, 1])"
      ]
     },
     "execution_count": 110,
     "metadata": {},
     "output_type": "execute_result"
    }
   ],
   "source": [
    "np.array([[0,1]]).reshape(2,)"
   ]
  },
  {
   "cell_type": "code",
   "execution_count": 111,
   "metadata": {},
   "outputs": [
    {
     "name": "stdout",
     "output_type": "stream",
     "text": [
      "(500,)\n",
      "-6256.509937922265 60.81941791704071\n",
      "(500,)\n",
      "-8739.704496879254 30.693555415062445\n",
      "(500,)\n",
      "-16431.738708076515 321.4305783492417\n",
      "(500,)\n",
      "-16584.988300103294 159.83728341005164\n",
      "(500,)\n",
      "-16284.014017577403 79.02472741175846\n",
      "(500,)\n",
      "-16128.338069392015 38.70918701710702\n",
      "(500,)\n",
      "-15963.616062306637 18.566059624326307\n",
      "(500,)\n",
      "-15844.289060070829 8.518754900948977\n",
      "(500,)\n",
      "-15742.100763948622 3.5497515782976596\n",
      "(500,)\n",
      "-15667.408504700159 1.186608351553309\n",
      "(500,)\n",
      "-15628.299197795948 0.2337317342096051\n",
      "(500,)\n",
      "-15618.248440337713 0.012977701052448925\n",
      "(500,)\n",
      "-15617.647142455511 4.4387844490040106e-05\n",
      "(500,)\n",
      "-15617.645076538278 5.226149078239034e-10\n"
     ]
    },
    {
     "data": {
      "text/plain": [
       "<matplotlib.legend.Legend at 0x7f6899671130>"
      ]
     },
     "execution_count": 111,
     "metadata": {},
     "output_type": "execute_result"
    },
    {
     "data": {
      "image/png": "[encoded data removed]",
      "text/plain": [
       "<Figure size 640x480 with 1 Axes>"
      ]
     },
     "metadata": {},
     "output_type": "display_data"
    }
   ],
   "source": [
    "x_list1 = newton(alpha, gamma, rho, iterations, x_list2[-1], f, Df, Hf)\n",
    "f_list1 = np.apply_along_axis(f, axis = 0, arr=np.array(x_list1).T)\n",
    "plt.plot(f_list1, label='newton-method' )\n",
    "plt.xscale('log')\n",
    "plt.title(f'Log-Scaled Plot of $f_k$,   $x_0 = (\\\\vec{{0}})$')\n",
    "plt.legend()"
   ]
  },
  {
   "cell_type": "code",
   "execution_count": 112,
   "metadata": {},
   "outputs": [
    {
     "data": {
      "text/plain": [
       "Text(0.5, 1.0, '$f_k$')"
      ]
     },
     "execution_count": 112,
     "metadata": {},
     "output_type": "execute_result"
    },
    {
     "data": {
      "image/png": "[encoded data removed]",
      "text/plain": [
       "<Figure size 640x480 with 1 Axes>"
      ]
     },
     "metadata": {},
     "output_type": "display_data"
    }
   ],
   "source": [
    "plt.plot(np.apply_along_axis(f, axis = 1, arr=x_list1))\n",
    "plt.title(\"$f_k$\")"
   ]
  }
 ],
 "metadata": {
  "kernelspec": {
   "display_name": "Python 3",
   "language": "python",
   "name": "python3"
  },
  "language_info": {
   "codemirror_mode": {
    "name": "ipython",
    "version": 3
   },
   "file_extension": ".py",
   "mimetype": "text/x-python",
   "name": "python",
   "nbconvert_exporter": "python",
   "pygments_lexer": "ipython3",
   "version": "3.12.4"
  }
 },
 "nbformat": 4,
 "nbformat_minor": 2
}
