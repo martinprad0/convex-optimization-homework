{
 "cells": [
  {
   "cell_type": "code",
   "execution_count": 1,
   "metadata": {},
   "outputs": [],
   "source": [
    "import numpy as np\n",
    "import sympy as sp\n",
    "from sympy.tensor.array import derive_by_array\n",
    "from numpy.linalg import inv\n",
    "import matplotlib.pyplot as plt"
   ]
  },
  {
   "cell_type": "code",
   "execution_count": 2,
   "metadata": {},
   "outputs": [],
   "source": [
    "dim = 2\n",
    "x = sp.symbols(\"\".join([f\"x_{i+1} \" for i in range(dim) ])[:-1])\n",
    "f = lambda x : 100*(x[1]-x[0]**2)**2 + (1-x[0])**2\n",
    "D = lambda expr: derive_by_array(expr,x)\n",
    "Df = sp.lambdify([x],D(f(x)))\n",
    "Hf = sp.lambdify([x],D(D(f(x))))"
   ]
  },
  {
   "cell_type": "code",
   "execution_count": 3,
   "metadata": {},
   "outputs": [],
   "source": [
    "n = 2000\n",
    "alpha = 1\n",
    "rho = 0.94\n",
    "c = -np.inf"
   ]
  },
  {
   "cell_type": "code",
   "execution_count": 4,
   "metadata": {},
   "outputs": [
    {
     "name": "stderr",
     "output_type": "stream",
     "text": [
      "/tmp/ipykernel_220568/3788652473.py:3: RuntimeWarning: overflow encountered in scalar power\n",
      "  f = lambda x : 100*(x[1]-x[0]**2)**2 + (1-x[0])**2\n",
      "<lambdifygenerated-1>:3: RuntimeWarning: overflow encountered in scalar power\n",
      "  return numpy.array((-400*x_1*(-x_1**2 + x_2) + 2*x_1 - 2, -200*x_1**2 + 200*x_2))\n",
      "/tmp/ipykernel_220568/3788652473.py:3: RuntimeWarning: invalid value encountered in scalar subtract\n",
      "  f = lambda x : 100*(x[1]-x[0]**2)**2 + (1-x[0])**2\n",
      "<lambdifygenerated-1>:3: RuntimeWarning: invalid value encountered in scalar add\n",
      "  return numpy.array((-400*x_1*(-x_1**2 + x_2) + 2*x_1 - 2, -200*x_1**2 + 200*x_2))\n",
      "/home/martin/.local/lib/python3.12/site-packages/numpy/linalg/linalg.py:2582: RuntimeWarning: overflow encountered in multiply\n",
      "  s = (x.conj() * x).real\n"
     ]
    },
    {
     "data": {
      "text/plain": [
       "array([nan, nan])"
      ]
     },
     "execution_count": 4,
     "metadata": {},
     "output_type": "execute_result"
    },
    {
     "data": {
      "image/png": "[encoded data removed]",
      "text/plain": [
       "<Figure size 640x480 with 1 Axes>"
      ]
     },
     "metadata": {},
     "output_type": "display_data"
    }
   ],
   "source": [
    "def backtracking(alpha, c, rho, x_k, f_k, Df_k, p_k):\n",
    "    alpha_k = alpha\n",
    "    backtracking = f(x_k + alpha_k*p_k) - (f_k + c*alpha_k*Df_k.T@p_k)\n",
    "    while backtracking > 0 :\n",
    "        alpha_k = alpha_k * rho\n",
    "        backtracking = f(x_k + alpha_k*p_k) - (f_k + c*alpha_k*Df_k.T@p_k)\n",
    "    return alpha_k\n",
    "\n",
    "def newton(alpha, c, rho, n, x_0, f, Df, Hf):\n",
    "    x_k = x_0\n",
    "    x_list = [x_k]\n",
    "    for i in range(n):\n",
    "        f_k = f(x_k)\n",
    "        Df_k = Df(x_k)\n",
    "        B_k = Hf(x_k)\n",
    "        p_k = -inv(B_k)@Df_k\n",
    "        alpha_k = backtracking(alpha, c, rho, x_k, f_k, Df_k, p_k)\n",
    "        x_k = x_k+alpha_k*p_k\n",
    "        x_list.append(x_k)\n",
    "    return x_list\n",
    "\n",
    "def gradient_descent(alpha, c, rho, n, x_0, f, Df, Hf):\n",
    "    x_k = x_0\n",
    "    x_list = [x_k]\n",
    "    B_k = np.eye(len(x_k))\n",
    "    for i in range(n):\n",
    "        f_k = f(x_k)\n",
    "        Df_k = Df(x_k)\n",
    "        p_k = -Df_k\n",
    "        alpha_k = 0.01 #backtracking(alpha, c, rho, x_k, f_k, Df_k, p_k)\n",
    "        x_k = x_k+alpha_k*p_k\n",
    "        x_list.append(x_k)\n",
    "    return x_list\n",
    "\n",
    "x_0 = np.array([0,0])\n",
    "# x_list1 = newton(alpha, c, rho, n, x_0, f, Df, Hf)\n",
    "x_list2 = gradient_descent(alpha, c, rho, n, x_0, f, Df, Hf)\n",
    "plt.plot(np.log(np.linalg.norm(np.array(x_list2)-np.array([1,1]), axis = 1)))\n",
    "x_list2[-1]"
   ]
  },
  {
   "cell_type": "code",
   "execution_count": 5,
   "metadata": {},
   "outputs": [],
   "source": [
    "if []:\n",
    "    print(True)"
   ]
  }
 ],
 "metadata": {
  "kernelspec": {
   "display_name": "Python 3",
   "language": "python",
   "name": "python3"
  },
  "language_info": {
   "codemirror_mode": {
    "name": "ipython",
    "version": 3
   },
   "file_extension": ".py",
   "mimetype": "text/x-python",
   "name": "python",
   "nbconvert_exporter": "python",
   "pygments_lexer": "ipython3",
   "version": "3.12.4"
  }
 },
 "nbformat": 4,
 "nbformat_minor": 2
}
